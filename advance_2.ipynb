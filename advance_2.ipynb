{
 "cells": [
  {
   "cell_type": "code",
   "execution_count": null,
   "id": "bb6cd0fa-ad4b-4245-ab4f-84933c4be63e",
   "metadata": {},
   "outputs": [],
   "source": [
    "Q1.What are the Probability Mass Function (PMF) and Probability Density Function (PDF)? Explain with\n",
    "an example.\n",
    "\n",
    "Q2: What is Cumulative Density Function (CDF)? Explain with an example. Why CDF is used?\n",
    "Q3: What are some examples of situations where the normal distribution might be used as a model?\n",
    "Explain how the parameters of the normal distribution relate to the shape of the distribution.\n",
    "Q4: Explain the importance of Normal Distribution. Give a few real-life examples of Normal\n",
    "Distribution.\n",
    "\n",
    "Q5:What is Bernaulli Distribution? Give an Example. What is the difference between Bernoulli\n",
    "Distribution and Binomial Distribution?\n",
    "\n",
    "Q6:Consider a dataset with a mean of 50 and a standard deviation of 10. If we assume that the dataset\n",
    "is normally distributed, what is the probability that a randomly selected observation will be greater\n",
    "than 60? Use the appropriate formula and show your calculations.\n",
    "Q7: Explain uniform Distribution with an example.\n",
    "Q8: What is the z score? State the importance of the z score.\n",
    "Q9: What is Central Limit Theorem? State the significance of the Central Limit Theorem.\n",
    "Q10: State the assumptions of the Central Limit Theorem."
   ]
  },
  {
   "cell_type": "code",
   "execution_count": null,
   "id": "1d327603-6a4c-4352-88e7-0bb80bce2e5a",
   "metadata": {},
   "outputs": [],
   "source": [
    "Q1.What are the Probability Mass Function (PMF) and Probability Density Function (PDF)? Explain with\n",
    "an example."
   ]
  },
  {
   "cell_type": "code",
   "execution_count": 5,
   "id": "76add7d1-a3c2-4f2e-923a-9e288e506d16",
   "metadata": {},
   "outputs": [],
   "source": [
    "Probability Mass Function (PMF):\n",
    "        let X be a discrete random variables which takes values on definite point then a function f(x) which describe probabilistic behaviour of random variable \n",
    "at any point then those function is called Probability Mass function \n",
    "\n",
    "              P(X=x)\n",
    "              sum(P(x)) = 1\n",
    "              P(x) >=0\n",
    "            \n",
    "Probability Density Function (PDF):\n",
    "            An example of the Bernoulli distribution is tossing a coin. Suppose that S is the sample space of all outcomes of a single toss of a fair coin, and X is the\n",
    "random variable defined on S assigning 0 to the category \"tails\" and 1 to the category \"heads\". Since the coin is fair, the probability mass function is\n",
    "\n",
    " P(X)={ '1/2'  : 'x=1' ,\n",
    "        '1/2'  : 'x =0' \n",
    "       ' 0'    : 'x is not {1,0}'}\n",
    "find P(x=1)\n",
    "       Answer: 1/2\n",
    "\n",
    "\n",
    "let X be a continoues random variables which takes values on a interval then a function f(x) which describe probabilistic behaviour of random variable \n",
    "then those function is called Probability density function .\n",
    "  \n",
    "        P(a<=X<=b)=integration from [a to b] (f(x) * dx)\n",
    "        \n",
    "        P(x)=1\n",
    "        P(x)>=0\n",
    "        \n",
    "        Let X be a continuous random variable with the PDF given by:\n",
    "\n",
    "\n",
    "         f(x) = { 'x '  :'0<x<1',\n",
    "                 '2-x'  :'1<x<2',\n",
    "                  '0'   :'x > 2'}\n",
    " \n",
    "Find P(0.5 < x < 1.5).\n",
    "    Answer : 3/4\n",
    "\n",
    "\n",
    "\n",
    "\n"
   ]
  },
  {
   "cell_type": "code",
   "execution_count": null,
   "id": "606125c2-b3b5-4c09-92c5-87440ba0bb2f",
   "metadata": {},
   "outputs": [],
   "source": [
    "2: What is Cumulative Density Function (CDF)? Explain with an example. Why CDF is used?"
   ]
  },
  {
   "cell_type": "code",
   "execution_count": null,
   "id": "a047045a-d80a-4b86-b85a-72ab9c547288",
   "metadata": {},
   "outputs": [],
   "source": [
    "For a discrete random variable X with the pmf cdf define as :\n",
    "                                  F(X)=P(Xi<=X)=sum(P(Xi))  for all Xi<X\n",
    "        \n",
    "For a continoues random variable X with the pdf cdf define as :\n",
    "                          F(X)=integration -inf to x (f(t) *dt)\n",
    "        \n",
    "        \n",
    "        \n",
    "1. What is the cumulative distribution function formula? \n",
    "\n",
    "Given the CDF F(x) for the discrete random variable X, \n",
    "\n",
    "Find: (a) P(X = 3) (b) P(X > 2)\n",
    "\n",
    "X   =  1    2       3     4    5 \n",
    "F(x)=  0.2  0.32    0.67  0.9  1\n",
    "\n",
    "CDF of a random variable ‘X’ is a function which can be defined as,\n",
    "\n",
    "FX(x) = P(X ≤ x)(a) P(X = 3)\n",
    "\n",
    "From the table, we can get the value of F(3) directly, which is equal to  0.67.\n",
    "\n",
    "\n"
   ]
  },
  {
   "cell_type": "code",
   "execution_count": null,
   "id": "984d54ba-8dc5-4269-a97a-95c21d603fb3",
   "metadata": {},
   "outputs": [],
   "source": [
    "Q3: What are some examples of situations where the normal distribution might be used as a model?\n",
    "Explain how the parameters of the normal distribution relate to the shape of the distribution."
   ]
  },
  {
   "cell_type": "code",
   "execution_count": null,
   "id": "5c50b44f-c603-4031-9b6b-d9df55b7f9a1",
   "metadata": {},
   "outputs": [],
   "source": [
    "The normal distributions are closely associated with many things such as:\n",
    "\n",
    "Marks scored on the test\n",
    "Heights of different persons\n",
    "Size of objects produced by the machine \n",
    "Blood pressure and so on.\n",
    "\n",
    "Mean :\n",
    "\n",
    "The mean represents the center of the distribution and is located at the peak of the normal curve.\n",
    "It determines the location of the distribution's peak and the point of highest probability.\n",
    "When the mean is changed, the entire distribution is shifted horizontally.\n",
    "If the mean is increased, the entire curve will shift to the right, and if it is decreased, the curve will shift to the left.\n",
    "Standard Deviation :\n",
    "\n",
    "The standard deviation controls the spread or dispersion of the data points around the mean.\n",
    "A smaller standard deviation means the data points are more tightly clustered around the mean, resulting in a narrower and taller curve.\n",
    "A larger standard deviation means the data points are more spread out, resulting in a wider and flatter curve.\n",
    "The standard deviation is directly related to the width of the distribution.\n"
   ]
  },
  {
   "cell_type": "code",
   "execution_count": null,
   "id": "8127a103-96a4-4691-a8cf-3fcb48c75f89",
   "metadata": {},
   "outputs": [],
   "source": [
    "Q4: Explain the importance of Normal Distribution. Give a few real-life examples of Normal\n",
    "Distribution.\n"
   ]
  },
  {
   "cell_type": "code",
   "execution_count": null,
   "id": "2573756d-d96f-4da4-a78e-852dd587a372",
   "metadata": {},
   "outputs": [],
   "source": [
    "1)\n",
    "The height of people is an example of normal distribution. Most of the people in a specific population are of average height. \n",
    "The number of people taller and shorter than the average height people is almost equal, and a very small number of people are \n",
    "either extremely tall or extremely short. Several genetic and environmental factors influence height. Therefore, it follows the normal distribution.\n",
    "2)\n",
    "In this scenario of increasing competition, most parents, as well as children, want to analyze the Intelligent Quotient level. Well, the IQ of a particular\n",
    "population is a normal distribution curve; where the IQ of a majority of the people in the population lies in the normal range whereas the IQ of the rest \n",
    "of the population lives in the deviated range.\n",
    "3)\n",
    "Blood pressure generally follows a Gaussian distribution (normal) in the general population, and it makes Gaussian mixture models a suitable candidate for \n",
    "modelling blood pressure behaviour."
   ]
  },
  {
   "cell_type": "code",
   "execution_count": null,
   "id": "e996e2da-8455-45c4-aec6-b6b8567f17af",
   "metadata": {},
   "outputs": [],
   "source": [
    "1)It has one of the important properties called central theorem. Central theorem means relationship between shape of population distribution and shape of\n",
    "sampling distribution of mean. This means that sampling distribution of mean approaches normal as sample size increase."
   ]
  },
  {
   "cell_type": "code",
   "execution_count": null,
   "id": "4c84c3d7-824f-4bc8-ad5c-c343da7b37ff",
   "metadata": {},
   "outputs": [],
   "source": [
    "2)In case the sample size is large the normal distribution serves as good approximation"
   ]
  },
  {
   "cell_type": "code",
   "execution_count": null,
   "id": "a2f236ed-3655-4377-81d2-5fd81b56560b",
   "metadata": {},
   "outputs": [],
   "source": [
    "3)The whole theory of sample tests t, f and chi-square test is based on the normal distribution"
   ]
  },
  {
   "cell_type": "code",
   "execution_count": null,
   "id": "62e89f5a-0cea-4cef-8ac0-6ee44f0bf114",
   "metadata": {},
   "outputs": [],
   "source": [
    "4)Due to its mathematical properties it is more popular and easy to calculate."
   ]
  },
  {
   "cell_type": "code",
   "execution_count": null,
   "id": "d8367c56-c7cb-47d0-8e1a-d7631981f3e6",
   "metadata": {},
   "outputs": [],
   "source": [
    "Q5:What is Bernaulli Distribution? Give an Example. What is the difference between Bernoulli\n",
    "Distribution and Binomial Distribution?"
   ]
  },
  {
   "cell_type": "code",
   "execution_count": null,
   "id": "44abf4fa-61e0-41c6-b7bd-5fef76746d71",
   "metadata": {},
   "outputs": [],
   "source": [
    "Bernualli distribution :\n",
    "    In Bernualli distribution  the outcome of the event is in  two form yes or no ,sucess or failure .\n",
    "    P(probability of sucess) = p\n",
    "    P(probability of faliure)=1-p = q \n",
    "    \n",
    "    example:\n",
    "        tossing a coin . what is probability of getting head.\n",
    "        P(head)=p=0.5\n",
    "        P(tail)=1-p=q=0.5\n",
    "        \n",
    "main diffrence in bernoulli and binomial is, in binomial   n number of experiment done but in bernoulli only one experiment is done.\n",
    "\n",
    "        \n",
    "    "
   ]
  },
  {
   "cell_type": "code",
   "execution_count": null,
   "id": "f1623e98-e710-42db-90ca-14e3591bd85a",
   "metadata": {},
   "outputs": [],
   "source": [
    "Q6:Consider a dataset with a mean of 50 and a standard deviation of 10. If we assume that the dataset\n",
    "is normally distributed, what is the probability that a randomly selected observation will be greater\n",
    "than 60? Use the appropriate formula and show your calculations."
   ]
  },
  {
   "cell_type": "code",
   "execution_count": 6,
   "id": "2822323c-7b6b-4da8-891e-1f2fd2071415",
   "metadata": {},
   "outputs": [
    {
     "data": {
      "text/plain": [
       "1.0"
      ]
     },
     "execution_count": 6,
     "metadata": {},
     "output_type": "execute_result"
    }
   ],
   "source": [
    "μ=50\n",
    "σ=10\n",
    "X=60\n",
    "\n",
    "# we use Z -Score formula\n",
    "\n",
    "Z=(X-μ)/σ\n",
    "Z=1.0\n",
    "\n",
    "Z is the Z-score,\n",
    "X is the value of the observation (in this case, 60),\n",
    "μ is the mean of the dataset (given as 50), and\n",
    "σ is the standard deviation of the dataset (given as 10).\n",
    "\n",
    "\n",
    "For a Z-score of 1.0, you can use the Z-table or a calculator to\n",
    "find the probability. The Z-table provides the area to the left of\n",
    "the Z-score. To find the probability of being greater than 60, we \n",
    "subtract the area to the left of the Z-score from 1.\n",
    "\n",
    "From the Z-table or calculator, we find that the area to the left of \n",
    "Z = 1.0 is approximately 0.8413\n",
    "P(X>60 )= 1-0.8413\n",
    "P(X>60 )=0.1587\n",
    "\n",
    "Therefore, the probability that a randomly selected observation from the\n",
    "the data set will be greater than 60 app is 0.1587 or 15.87%\n"
   ]
  },
  {
   "cell_type": "code",
   "execution_count": null,
   "id": "86067c5e-5458-46f9-846b-4bf3e738e643",
   "metadata": {},
   "outputs": [],
   "source": [
    "7: Explain uniform Distribution with an example."
   ]
  },
  {
   "cell_type": "code",
   "execution_count": null,
   "id": "119555b7-f45f-4274-9fab-3f2c2e161818",
   "metadata": {},
   "outputs": [],
   "source": [
    "In probability theory and statistics, the uniform distribution is a continuous probability distribution in\n",
    "which all values within a specified range are equally likely to occur. The uniform distribution is characterized\n",
    "by a constant probability density function (PDF) over its support interval. The support interval is defined by\n",
    "two parameters, usually denoted as \"a\" and \"b,\" representing the lower and upper bounds of the distribution,\n",
    "respectively.\n",
    "\n",
    "\n",
    "The probability density function (PDF) of a uniform distribution is given by:\n",
    "\n",
    "f(x) = 1 / (b - a) for a ≤ x ≤ b\n",
    "f(x) = 0 otherwise\n",
    "\n",
    "The cumulative distribution function (CDF) of a uniform distribution is given by:\n",
    "\n",
    "F(x) = 0 for x < a\n",
    "F(x) = (x - a) / (b - a) for a ≤ x ≤ b\n",
    "F(x) = 1 for x > b\n",
    "\n",
    "\n",
    "Example: Rolling a Fair Die\n",
    "Consider rolling a fair six-sided die, where each face has an equal chance of coming up.\n",
    "The possible outcomes are integers from 1 to 6.\n",
    "\n",
    "In this case, the uniform distribution can be described as follows:\n",
    "\n",
    "The lower bound \"a\" is 1, representing the minimum possible outcome (rolling a 1).\n",
    "The upper bound \"b\" is 6, representing the maximum possible outcome (rolling a 6).\n",
    "For this uniform distribution, the probability of rolling any particular number\n",
    "between 1 and 6 is the same (1/6), and the probability of rolling any number outside\n",
    "this range is 0. Therefore, the uniform distribution for rolling a fair die can be\n",
    "mathematically represented as follows:\n",
    "    \n",
    "f(x) = 1 / 6 for 1 ≤ x ≤ 6\n",
    "f(x) = 0 otherwise   "
   ]
  },
  {
   "cell_type": "code",
   "execution_count": null,
   "id": "943aedcd-4ee3-41ca-aac2-548ea2f99b8e",
   "metadata": {},
   "outputs": [],
   "source": [
    "Q8: What is the z score? State the importance of the z score.\n"
   ]
  },
  {
   "cell_type": "code",
   "execution_count": null,
   "id": "eef74056-96e3-4eec-9349-75b1e3240ace",
   "metadata": {},
   "outputs": [],
   "source": [
    "The z-score, also known as the standard score or standardized score, is\n",
    "a dimensionless quantity that represents the number of standard deviations\n",
    "an individual data point is from the mean of a dataset. It is a measure of \n",
    "how far an observation deviates from the mean in terms of standard deviation\n",
    "units. The z-score is computed using the formula:\n",
    "\n",
    "z = (x - μ) / σ\n",
    "\n",
    "where:\n",
    "\n",
    "z is the z-score,\n",
    "x is the individual data point,\n",
    "μ is the mean of the dataset, and\n",
    "σ is the standard deviation of the dataset.\n",
    "\n"
   ]
  },
  {
   "cell_type": "code",
   "execution_count": null,
   "id": "f6d238d9-f4ae-4d56-8a28-ae35060e17c8",
   "metadata": {},
   "outputs": [],
   "source": [
    "Standardization: The z-score standardizes data, allowing comparisons between values from different datasets with different scales\n",
    "and units. It transforms raw data into a common standard, making it easier to compare and analyze data from different sources.\n",
    "\n",
    "Outlier Detection: Z-scores are useful for identifying outliers in a dataset. Outliers are data points that are significantly \n",
    "far from the mean, and their z-scores will have large absolute values. This helps in understanding whether a data point \n",
    "is an unusual observation compared to the rest of the data.\n",
    "\n",
    "Probability Calculation: The z-score is commonly used in probability calculations using the standard normal distribution \n",
    "(z-distribution). It allows us to find the probability of obtaining a value less than, greater than, or between specific\n",
    "z-scores. This is particularly valuable in hypothesis testing and calculating confidence intervals.\n",
    "\n",
    "Identifying Deviations: Positive or negative z-scores indicate whether data points are above or below the mean, respectively. \n",
    "This helps in identifying patterns or trends in the data and understanding whether certain observations are higher or lower \n",
    "than expected."
   ]
  },
  {
   "cell_type": "code",
   "execution_count": null,
   "id": "c2013bf9-9412-41f8-817f-a41e78426f29",
   "metadata": {},
   "outputs": [],
   "source": [
    "Q9: What is Central Limit Theorem? State the significance of the Central Limit Theorem.\n"
   ]
  },
  {
   "cell_type": "code",
   "execution_count": null,
   "id": "3e1ab52b-6c91-421d-84b4-8c4eae833767",
   "metadata": {},
   "outputs": [],
   "source": [
    "Central limit theorem says that sampling distribution of mean will always be normaly distributed.\n",
    "as long as the sample size is large enough regardless of wether the population has a normal\n",
    "poission,binomial or any other distribution the sampling distribution of mean will be normal "
   ]
  },
  {
   "cell_type": "code",
   "execution_count": null,
   "id": "c3cdd9c5-8321-41dd-b4f9-f6837d37dbd9",
   "metadata": {},
   "outputs": [],
   "source": [
    "Approximation of Population Parameters: The Central Limit Theorem allows us to approximate the sampling \n",
    "distribution of the sample mean as a normal distribution. This is especially useful when the population \n",
    "distribution is not known or is difficult to work with. With this approximation, we can estimate\n",
    "population parameters such as the population mean with greater accuracy.\n",
    "\n",
    "Sample Size Independence: The Central Limit Theorem suggests that the shape of the original population \n",
    "distribution does not matter as long as the sample size is large enough. This property is valuable\n",
    "because it allows us to apply methods based on the normal distribution even when the underlying\n",
    "population distribution is not known.\n",
    "\n",
    "Statistical Modeling: The Central Limit Theorem is the foundation for many statistical models,\n",
    "such as linear regression, which often rely on the assumption of normally distributed errors\n",
    "to make reliable predictions and conduct hypothesis tests.\n",
    "\n",
    "Aid in Decision Making: The normal distribution is well understood and has several useful properties.\n",
    "Thanks to the Central Limit Theorem, we can leverage these properties to make informed decisions and\n",
    "construct confidence intervals for population parameters."
   ]
  },
  {
   "cell_type": "code",
   "execution_count": 1,
   "id": "75d7d078-2758-4123-a59e-f954f69a10d2",
   "metadata": {},
   "outputs": [],
   "source": [
    "Q10: State the assumptions of the Central Limit Theorem."
   ]
  },
  {
   "cell_type": "markdown",
   "id": "ae3aa3d1-d9e0-482d-bf39-43bc8dbb5cbb",
   "metadata": {},
   "source": [
    "Independence:"
   ]
  },
  {
   "cell_type": "code",
   "execution_count": null,
   "id": "e2a4109f-e97d-4640-8cf8-d9dfecb253e0",
   "metadata": {},
   "outputs": [],
   "source": [
    " The random variables in the sample must be independent of each other. \n",
    "This means that the outcome of one observation should not influence\n",
    "or be influenced by the outcomes of other observations in the sample."
   ]
  },
  {
   "cell_type": "markdown",
   "id": "a57c4abb-a180-489c-9571-8106f1a08a26",
   "metadata": {},
   "source": [
    "Identically Distributed"
   ]
  },
  {
   "cell_type": "code",
   "execution_count": null,
   "id": "7e32f6fe-62d2-4b63-8219-059547aa8f85",
   "metadata": {},
   "outputs": [],
   "source": [
    "The random variables in the sample must be drawn from the same probability\n",
    "distribution. This means that each observation has the same underlying\n",
    "probability distribution with the same mean and variance"
   ]
  },
  {
   "cell_type": "markdown",
   "id": "fce1c7b3-43d6-42c9-a701-85b97f5acf72",
   "metadata": {},
   "source": [
    "Finite Variance:"
   ]
  },
  {
   "cell_type": "code",
   "execution_count": null,
   "id": "78139f55-6680-45a7-b4c0-f5bcec66e77b",
   "metadata": {},
   "outputs": [],
   "source": [
    "The population from which the samples are drawn must have a finite variance\n",
    "(i.e., the variance of the random variables is not infinite). \n",
    "Infinite variance would violate the conditions required for \n",
    "the Central Limit Theorem to hold."
   ]
  },
  {
   "cell_type": "markdown",
   "id": "7f462d4d-8c9f-4f85-9983-07985ad78938",
   "metadata": {},
   "source": [
    "Sample Size:"
   ]
  },
  {
   "cell_type": "code",
   "execution_count": null,
   "id": "2719973c-a44e-4cf7-a9d1-9f7c9b99683a",
   "metadata": {},
   "outputs": [],
   "source": [
    "The sample size should be sufficiently large. There is no hard\n",
    "and fast rule for what constitutes \"sufficiently large,\" but \n",
    "as a general guideline, a sample size greater than 30 is often \n",
    "considered adequate for the Central Limit Theorem to be\n",
    "applicable. However, in some cases, a smaller sample size\n",
    "may also be acceptable if the underlying distribution is \n",
    "not heavily skewed or has heavy tails."
   ]
  },
  {
   "cell_type": "code",
   "execution_count": null,
   "id": "a8e073c5-d850-4d3c-9fa3-b17b7385c2d0",
   "metadata": {},
   "outputs": [],
   "source": []
  }
 ],
 "metadata": {
  "kernelspec": {
   "display_name": "Python 3 (ipykernel)",
   "language": "python",
   "name": "python3"
  },
  "language_info": {
   "codemirror_mode": {
    "name": "ipython",
    "version": 3
   },
   "file_extension": ".py",
   "mimetype": "text/x-python",
   "name": "python",
   "nbconvert_exporter": "python",
   "pygments_lexer": "ipython3",
   "version": "3.10.8"
  }
 },
 "nbformat": 4,
 "nbformat_minor": 5
}
